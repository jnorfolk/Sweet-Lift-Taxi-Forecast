{
 "cells": [
  {
   "cell_type": "markdown",
   "id": "b4f4c7d0-a279-4502-b687-fbafda774495",
   "metadata": {},
   "source": [
    "# Sweet Lift Taxi Ride Forecasting"
   ]
  },
  {
   "cell_type": "markdown",
   "id": "d1776061-2af0-4d7f-af83-d730d9061c93",
   "metadata": {},
   "source": [
    "# Introduction"
   ]
  },
  {
   "cell_type": "markdown",
   "id": "282bc4b4-8f78-47c9-864b-e9be84a3c6af",
   "metadata": {},
   "source": [
    "The goal for this project is to predict the number of rides that the taxi company Sweet Lift Taxi will give during peak hours. Data is given  from historical data, and the next hour needs to be predicted. I will use the dataset resampled to every one hour, analyze the data, and train a few different models using root mean square error as my metric. I will split the dataset into a training, validation, and test set (split chronologically rather than randomly), using the validation set to find the best hyperparameters before training a new model on the training + validation sets and ultimately testing performance on the test set and making a formal prediction for the hour following the end of the dataset. A RMSE of <48 is acceptable."
   ]
  },
  {
   "cell_type": "code",
   "execution_count": 1,
   "id": "28f4f20b-6b67-496d-a44d-859a63badba3",
   "metadata": {},
   "outputs": [],
   "source": [
    "import pandas as pd\n",
    "import numpy as np\n",
    "import matplotlib.pyplot as plt\n",
    "from statsmodels.tsa.seasonal import seasonal_decompose\n",
    "\n",
    "# from sklearnex import patch_sklearn # Enhanced performance package for Intel processors\n",
    "# patch_sklearn()\n",
    "\n",
    "from sklearn.model_selection import train_test_split, cross_val_score\n",
    "from sklearn.ensemble import RandomForestRegressor\n",
    "from sklearn.linear_model import LinearRegression\n",
    "from sklearn.preprocessing import PolynomialFeatures\n",
    "from sklearn.metrics import mean_squared_error as mse\n",
    "\n",
    "import catboost as cb"
   ]
  },
  {
   "cell_type": "markdown",
   "id": "b6e545a6-52e4-4dce-a51c-72737a2b0760",
   "metadata": {},
   "source": [
    "# Load and explore data"
   ]
  },
  {
   "cell_type": "markdown",
   "id": "b76a72aa-8765-48df-a71c-1cb531e7f79b",
   "metadata": {},
   "source": [
    "The data comes in the form of two columns, date/time and number of orders. Date/time can be made into the index, and changed into pandas datetime64 format."
   ]
  },
  {
   "cell_type": "code",
   "execution_count": 2,
   "id": "271ec997-8456-4864-bb29-721280242666",
   "metadata": {},
   "outputs": [],
   "source": [
    "try:\n",
    "    df = pd.read_csv('taxi.csv', index_col=['datetime'], parse_dates=['datetime'])\n",
    "except:\n",
    "    df = pd.read_csv('/datasets/taxi.csv', index_col=['datetime'], parse_dates=['datetime'])"
   ]
  },
  {
   "cell_type": "markdown",
   "id": "7cd643a2-eafb-4d36-b3eb-a965ffeb33a1",
   "metadata": {},
   "source": [
    "Make sure the datetime values are in chronological order."
   ]
  },
  {
   "cell_type": "code",
   "execution_count": 3,
   "id": "34ceff73-0728-481e-b338-b0e804bdfb65",
   "metadata": {},
   "outputs": [],
   "source": [
    "df.sort_index(inplace=True)"
   ]
  },
  {
   "cell_type": "markdown",
   "id": "78738c9b-23e1-4c60-8271-21926f62d118",
   "metadata": {},
   "source": [
    "There are no missing values in the orders column."
   ]
  },
  {
   "cell_type": "code",
   "execution_count": 4,
   "id": "f02eed2b-391d-4c9d-a347-fd6945c031fd",
   "metadata": {},
   "outputs": [
    {
     "data": {
      "text/plain": [
       "num_orders    0\n",
       "dtype: int64"
      ]
     },
     "execution_count": 4,
     "metadata": {},
     "output_type": "execute_result"
    }
   ],
   "source": [
    "df.isna().sum()"
   ]
  },
  {
   "cell_type": "code",
   "execution_count": 5,
   "id": "81467b06-8d91-4005-be4b-9db01c09bebe",
   "metadata": {},
   "outputs": [
    {
     "data": {
      "text/html": [
       "<div>\n",
       "<style scoped>\n",
       "    .dataframe tbody tr th:only-of-type {\n",
       "        vertical-align: middle;\n",
       "    }\n",
       "\n",
       "    .dataframe tbody tr th {\n",
       "        vertical-align: top;\n",
       "    }\n",
       "\n",
       "    .dataframe thead th {\n",
       "        text-align: right;\n",
       "    }\n",
       "</style>\n",
       "<table border=\"1\" class=\"dataframe\">\n",
       "  <thead>\n",
       "    <tr style=\"text-align: right;\">\n",
       "      <th></th>\n",
       "      <th>num_orders</th>\n",
       "    </tr>\n",
       "    <tr>\n",
       "      <th>datetime</th>\n",
       "      <th></th>\n",
       "    </tr>\n",
       "  </thead>\n",
       "  <tbody>\n",
       "    <tr>\n",
       "      <th>2018-03-01 00:00:00</th>\n",
       "      <td>9</td>\n",
       "    </tr>\n",
       "    <tr>\n",
       "      <th>2018-03-01 00:10:00</th>\n",
       "      <td>14</td>\n",
       "    </tr>\n",
       "    <tr>\n",
       "      <th>2018-03-01 00:20:00</th>\n",
       "      <td>28</td>\n",
       "    </tr>\n",
       "    <tr>\n",
       "      <th>2018-03-01 00:30:00</th>\n",
       "      <td>20</td>\n",
       "    </tr>\n",
       "    <tr>\n",
       "      <th>2018-03-01 00:40:00</th>\n",
       "      <td>32</td>\n",
       "    </tr>\n",
       "  </tbody>\n",
       "</table>\n",
       "</div>"
      ],
      "text/plain": [
       "                     num_orders\n",
       "datetime                       \n",
       "2018-03-01 00:00:00           9\n",
       "2018-03-01 00:10:00          14\n",
       "2018-03-01 00:20:00          28\n",
       "2018-03-01 00:30:00          20\n",
       "2018-03-01 00:40:00          32"
      ]
     },
     "execution_count": 5,
     "metadata": {},
     "output_type": "execute_result"
    }
   ],
   "source": [
    "df.head()"
   ]
  },
  {
   "cell_type": "code",
   "execution_count": 6,
   "id": "1890b66f-1599-4f62-b2a4-1f1fe4bdccb6",
   "metadata": {},
   "outputs": [
    {
     "name": "stdout",
     "output_type": "stream",
     "text": [
      "<class 'pandas.core.frame.DataFrame'>\n",
      "DatetimeIndex: 26496 entries, 2018-03-01 00:00:00 to 2018-08-31 23:50:00\n",
      "Data columns (total 1 columns):\n",
      " #   Column      Non-Null Count  Dtype\n",
      "---  ------      --------------  -----\n",
      " 0   num_orders  26496 non-null  int64\n",
      "dtypes: int64(1)\n",
      "memory usage: 414.0 KB\n"
     ]
    }
   ],
   "source": [
    "df.info()"
   ]
  },
  {
   "cell_type": "markdown",
   "id": "65ad25d5-9134-4ae2-b1a3-cef5db27b998",
   "metadata": {},
   "source": [
    "I want the data to be condensed into the sum of taxi rides per hour rather than the sum of taxi rides per every ten minutes, as it is now."
   ]
  },
  {
   "cell_type": "code",
   "execution_count": 7,
   "id": "cf01e88f-7cf0-4d70-9918-a3bcd67a92b2",
   "metadata": {},
   "outputs": [],
   "source": [
    "df = df.resample('1H').sum()"
   ]
  },
  {
   "cell_type": "code",
   "execution_count": 8,
   "id": "d277614c-c59a-4c0f-9dff-7199b7d8c249",
   "metadata": {},
   "outputs": [
    {
     "name": "stdout",
     "output_type": "stream",
     "text": [
      "<class 'pandas.core.frame.DataFrame'>\n",
      "DatetimeIndex: 4416 entries, 2018-03-01 00:00:00 to 2018-08-31 23:00:00\n",
      "Freq: H\n",
      "Data columns (total 1 columns):\n",
      " #   Column      Non-Null Count  Dtype\n",
      "---  ------      --------------  -----\n",
      " 0   num_orders  4416 non-null   int64\n",
      "dtypes: int64(1)\n",
      "memory usage: 69.0 KB\n"
     ]
    }
   ],
   "source": [
    "df.info()"
   ]
  },
  {
   "cell_type": "markdown",
   "id": "2ec8c5d7-9045-4915-97a3-d0bcdb0f44d2",
   "metadata": {},
   "source": [
    "Looking at the length of the dataframe before and after resampling, we definitely have fewer values to work with. The data ranges from March 1st, 2018 to August 31st, 2018. I want to look at the general trend throughout this timeframe, which I can do through a statsmodel package. Using Fourier transfroms via the same statsmodel package, I will check seasonality for the last few days before the end of the dataset, to see if there is any pattern in the days leading up to the time of prediction."
   ]
  },
  {
   "cell_type": "code",
   "execution_count": 9,
   "id": "c04a6bac-c134-4d91-9fbe-d35ebffc2007",
   "metadata": {},
   "outputs": [],
   "source": [
    "decomposed = seasonal_decompose(df)"
   ]
  },
  {
   "cell_type": "code",
   "execution_count": 10,
   "id": "cc2580e9-280f-489b-ab07-efbd721102a6",
   "metadata": {},
   "outputs": [
    {
     "data": {
      "text/plain": [
       "Text(0.5, 1.0, 'Rides given over time')"
      ]
     },
     "execution_count": 10,
     "metadata": {},
     "output_type": "execute_result"
    },
    {
     "data": {
      "image/png": "[encoded data removed]",
      "text/plain": [
       "<Figure size 640x480 with 1 Axes>"
      ]
     },
     "metadata": {},
     "output_type": "display_data"
    }
   ],
   "source": [
    "decomposed.trend.plot(ax=plt.gca())\n",
    "plt.title('Rides given over time')"
   ]
  },
  {
   "cell_type": "markdown",
   "id": "fcd6ab32-df90-4a74-afca-45fa0cbdc760",
   "metadata": {},
   "source": [
    "Taxi rides were lowest in March and gradually increase as time proceeds. In March 2018, between 40 and 80 rides per hour were given, whereas in August 2018, between approximately 100 and 180 rides were given per hour."
   ]
  },
  {
   "cell_type": "code",
   "execution_count": 11,
   "id": "7bd8f715-a263-4a98-97d8-e4306f3cb1fd",
   "metadata": {},
   "outputs": [
    {
     "data": {
      "text/plain": [
       "Text(0.5, 1.0, 'Seasonality of rides in late August (Fourier transform)')"
      ]
     },
     "execution_count": 11,
     "metadata": {},
     "output_type": "execute_result"
    },
    {
     "data": {
      "image/png": "[encoded data removed]",
      "text/plain": [
       "<Figure size 1000x300 with 1 Axes>"
      ]
     },
     "metadata": {},
     "output_type": "display_data"
    }
   ],
   "source": [
    "decomposed.seasonal['2018-08-21':'2018-08-31'].plot(figsize=(10,3))\n",
    "plt.title('Seasonality of rides in late August (Fourier transform)')"
   ]
  },
  {
   "cell_type": "markdown",
   "id": "f154ddde-328d-45d3-bf25-64efc5cc2a0c",
   "metadata": {},
   "source": [
    "This plot of seasonality shows patterns in the days leading up to the final hour in the dataset. When I start creating features, I will need to keep this in mind. Taxi rides seem to be at a maximum at midnight and at a minimum a few hours thereafter. We need to later predict the number of rides in the next hour, and this seasonality plot indicates to me that this number will be higher than the preceeding value rather than lower.\n",
    "\n",
    "I want to look into a trigonometric alternative to linear regression due to its 24-hour cycle. If this is readily possible, I should note that the dataset begins with a peak, indicating that a cosine function would be ideal. At the very least, a polynomial regressor should be better than a linear regressor, because the trend seems to have a bit of a curve to it."
   ]
  },
  {
   "cell_type": "markdown",
   "id": "0601a633-0b97-4031-b581-38709609b8e4",
   "metadata": {},
   "source": [
    "Visually, the trend seems to be increasing rides over time, but let's plot the rolling mean and standard deviation to get a better look."
   ]
  },
  {
   "cell_type": "code",
   "execution_count": 12,
   "id": "42801e00-1313-4889-be53-362fe1cd6dc2",
   "metadata": {},
   "outputs": [
    {
     "data": {
      "text/plain": [
       "<Axes: xlabel='datetime'>"
      ]
     },
     "execution_count": 12,
     "metadata": {},
     "output_type": "execute_result"
    },
    {
     "data": {
      "image/png": "[encoded data removed]",
      "text/plain": [
       "<Figure size 640x480 with 1 Axes>"
      ]
     },
     "metadata": {},
     "output_type": "display_data"
    }
   ],
   "source": [
    "df_plot = df.copy()\n",
    "df_plot['mean'] = df_plot['num_orders'].rolling(24).mean()\n",
    "df_plot['std'] = df_plot['num_orders'].rolling(24).std()\n",
    "df_plot.plot()"
   ]
  },
  {
   "cell_type": "markdown",
   "id": "da5e9851-88ea-4bbd-b23d-270622dec2d2",
   "metadata": {},
   "source": [
    "The upward trends over time, in terms of both mean and standard deviation, from the plot above indicates that this time series is a nonstationary stochastic process. "
   ]
  },
  {
   "cell_type": "markdown",
   "id": "9b3af396-5dfa-41c8-9023-c5149f7140c2",
   "metadata": {},
   "source": [
    "## Feature engineering"
   ]
  },
  {
   "cell_type": "markdown",
   "id": "50dc6cc7-c241-42bb-872e-b6dff28392a3",
   "metadata": {},
   "source": [
    "It is easier to use stationary time series data for to make forecasts, so we will add some columns where the data is lagged by some number of hours to help the data be more stationary for the models. \n",
    "\n",
    "Information about the date/time and day of week would also be helpful, because this information is contained only in the index and the model can use these features to utilize seasonality for its predictions. \n",
    "\n",
    "A feature with the rolling mean from the past several hours would also help the model to identify the trend."
   ]
  },
  {
   "cell_type": "code",
   "execution_count": 13,
   "id": "ed486d2e-25ea-4c5c-b283-e64e5406882f",
   "metadata": {},
   "outputs": [],
   "source": [
    "def lag(df, max_lag):  \n",
    "    for lag in range(1, max_lag + 1):\n",
    "        df[f'lag_{lag}'] = df['num_orders'].shift(lag)    \n",
    "        \n",
    "def rolling_mean(df, mean_size):\n",
    "    df['rolling_mean'] = df['num_orders'].shift().rolling(mean_size).mean()"
   ]
  },
  {
   "cell_type": "code",
   "execution_count": 14,
   "id": "720f45f2-0fc2-4782-8f7c-0f8ce7e2227c",
   "metadata": {},
   "outputs": [],
   "source": [
    "df['month'] = df.index.month\n",
    "df['day'] = df.index.day\n",
    "df['hour'] = df.index.hour\n",
    "df['dayofweek'] = df.index.dayofweek"
   ]
  },
  {
   "cell_type": "markdown",
   "id": "39431548-59af-4e9b-b07e-6af449d53818",
   "metadata": {},
   "source": [
    "I am choosing a max lag of 6 hours because a quarter of a day feels reasonable for predicting the current rides. I am choosing a rolling mean of 4 because the number of rides seems to change quickly and I do not want the model to see too far into the past."
   ]
  },
  {
   "cell_type": "code",
   "execution_count": 15,
   "id": "800a861f-be27-4385-8631-4e65dd7c37f9",
   "metadata": {},
   "outputs": [],
   "source": [
    "lag(df, max_lag=6)\n",
    "rolling_mean(df, mean_size=4)"
   ]
  },
  {
   "cell_type": "code",
   "execution_count": 16,
   "id": "d72b44dd-b0e3-4164-a900-47cee37a0c3f",
   "metadata": {},
   "outputs": [
    {
     "data": {
      "text/html": [
       "<div>\n",
       "<style scoped>\n",
       "    .dataframe tbody tr th:only-of-type {\n",
       "        vertical-align: middle;\n",
       "    }\n",
       "\n",
       "    .dataframe tbody tr th {\n",
       "        vertical-align: top;\n",
       "    }\n",
       "\n",
       "    .dataframe thead th {\n",
       "        text-align: right;\n",
       "    }\n",
       "</style>\n",
       "<table border=\"1\" class=\"dataframe\">\n",
       "  <thead>\n",
       "    <tr style=\"text-align: right;\">\n",
       "      <th></th>\n",
       "      <th>num_orders</th>\n",
       "      <th>month</th>\n",
       "      <th>day</th>\n",
       "      <th>hour</th>\n",
       "      <th>dayofweek</th>\n",
       "      <th>lag_1</th>\n",
       "      <th>lag_2</th>\n",
       "      <th>lag_3</th>\n",
       "      <th>lag_4</th>\n",
       "      <th>lag_5</th>\n",
       "      <th>lag_6</th>\n",
       "      <th>rolling_mean</th>\n",
       "    </tr>\n",
       "    <tr>\n",
       "      <th>datetime</th>\n",
       "      <th></th>\n",
       "      <th></th>\n",
       "      <th></th>\n",
       "      <th></th>\n",
       "      <th></th>\n",
       "      <th></th>\n",
       "      <th></th>\n",
       "      <th></th>\n",
       "      <th></th>\n",
       "      <th></th>\n",
       "      <th></th>\n",
       "      <th></th>\n",
       "    </tr>\n",
       "  </thead>\n",
       "  <tbody>\n",
       "    <tr>\n",
       "      <th>2018-03-01 00:00:00</th>\n",
       "      <td>124</td>\n",
       "      <td>3</td>\n",
       "      <td>1</td>\n",
       "      <td>0</td>\n",
       "      <td>3</td>\n",
       "      <td>NaN</td>\n",
       "      <td>NaN</td>\n",
       "      <td>NaN</td>\n",
       "      <td>NaN</td>\n",
       "      <td>NaN</td>\n",
       "      <td>NaN</td>\n",
       "      <td>NaN</td>\n",
       "    </tr>\n",
       "    <tr>\n",
       "      <th>2018-03-01 01:00:00</th>\n",
       "      <td>85</td>\n",
       "      <td>3</td>\n",
       "      <td>1</td>\n",
       "      <td>1</td>\n",
       "      <td>3</td>\n",
       "      <td>124.0</td>\n",
       "      <td>NaN</td>\n",
       "      <td>NaN</td>\n",
       "      <td>NaN</td>\n",
       "      <td>NaN</td>\n",
       "      <td>NaN</td>\n",
       "      <td>NaN</td>\n",
       "    </tr>\n",
       "    <tr>\n",
       "      <th>2018-03-01 02:00:00</th>\n",
       "      <td>71</td>\n",
       "      <td>3</td>\n",
       "      <td>1</td>\n",
       "      <td>2</td>\n",
       "      <td>3</td>\n",
       "      <td>85.0</td>\n",
       "      <td>124.0</td>\n",
       "      <td>NaN</td>\n",
       "      <td>NaN</td>\n",
       "      <td>NaN</td>\n",
       "      <td>NaN</td>\n",
       "      <td>NaN</td>\n",
       "    </tr>\n",
       "    <tr>\n",
       "      <th>2018-03-01 03:00:00</th>\n",
       "      <td>66</td>\n",
       "      <td>3</td>\n",
       "      <td>1</td>\n",
       "      <td>3</td>\n",
       "      <td>3</td>\n",
       "      <td>71.0</td>\n",
       "      <td>85.0</td>\n",
       "      <td>124.0</td>\n",
       "      <td>NaN</td>\n",
       "      <td>NaN</td>\n",
       "      <td>NaN</td>\n",
       "      <td>NaN</td>\n",
       "    </tr>\n",
       "    <tr>\n",
       "      <th>2018-03-01 04:00:00</th>\n",
       "      <td>43</td>\n",
       "      <td>3</td>\n",
       "      <td>1</td>\n",
       "      <td>4</td>\n",
       "      <td>3</td>\n",
       "      <td>66.0</td>\n",
       "      <td>71.0</td>\n",
       "      <td>85.0</td>\n",
       "      <td>124.0</td>\n",
       "      <td>NaN</td>\n",
       "      <td>NaN</td>\n",
       "      <td>86.5</td>\n",
       "    </tr>\n",
       "  </tbody>\n",
       "</table>\n",
       "</div>"
      ],
      "text/plain": [
       "                     num_orders  month  day  hour  dayofweek  lag_1  lag_2  \\\n",
       "datetime                                                                     \n",
       "2018-03-01 00:00:00         124      3    1     0          3    NaN    NaN   \n",
       "2018-03-01 01:00:00          85      3    1     1          3  124.0    NaN   \n",
       "2018-03-01 02:00:00          71      3    1     2          3   85.0  124.0   \n",
       "2018-03-01 03:00:00          66      3    1     3          3   71.0   85.0   \n",
       "2018-03-01 04:00:00          43      3    1     4          3   66.0   71.0   \n",
       "\n",
       "                     lag_3  lag_4  lag_5  lag_6  rolling_mean  \n",
       "datetime                                                       \n",
       "2018-03-01 00:00:00    NaN    NaN    NaN    NaN           NaN  \n",
       "2018-03-01 01:00:00    NaN    NaN    NaN    NaN           NaN  \n",
       "2018-03-01 02:00:00    NaN    NaN    NaN    NaN           NaN  \n",
       "2018-03-01 03:00:00  124.0    NaN    NaN    NaN           NaN  \n",
       "2018-03-01 04:00:00   85.0  124.0    NaN    NaN          86.5  "
      ]
     },
     "execution_count": 16,
     "metadata": {},
     "output_type": "execute_result"
    }
   ],
   "source": [
    "df.head()"
   ]
  },
  {
   "cell_type": "markdown",
   "id": "c27b8bc1-64df-4745-b404-467b66d0f74e",
   "metadata": {},
   "source": [
    "The table looks as it should. The nan values in the first few rows mean that these rows should be dropped. Let's do this before we split the table into several different sets."
   ]
  },
  {
   "cell_type": "code",
   "execution_count": 17,
   "id": "f8a9f91a-43d8-429d-8b09-863365e86b17",
   "metadata": {},
   "outputs": [],
   "source": [
    "df.dropna(inplace=True)"
   ]
  },
  {
   "cell_type": "markdown",
   "id": "2b715f91-3603-4e8e-ad17-8d8adfcd96a2",
   "metadata": {},
   "source": [
    "# Build predictive models"
   ]
  },
  {
   "cell_type": "markdown",
   "id": "7cb4232a-7955-4ea7-98d6-dd5a31de9a7b",
   "metadata": {},
   "source": [
    "I will try out a linear regression model as a sanity check, and try a polynomial regressor as well. Beyond that I will try out a random forest model via sklearn and a CatBoost regressor, as I have read a lot of positive things about it and only minimally explored its use in my last project.\n",
    "\n",
    "I will split the dataset into a training, validation, and test set (split chronologically rather than randomly), using the validation set to find the best hyperparameters before training a new model on the training + validation sets. I will pick the best model in terms of RMSE and test performance on the test set. I will train a model on all of the data and make a formal prediction for the hour following the end of the dataset."
   ]
  },
  {
   "cell_type": "code",
   "execution_count": 18,
   "id": "6c2f68aa-3582-447b-a2bd-5e8384588065",
   "metadata": {},
   "outputs": [],
   "source": [
    "target = df.num_orders\n",
    "features = df.drop('num_orders', axis=1)"
   ]
  },
  {
   "cell_type": "code",
   "execution_count": 19,
   "id": "f4a8f4ed-56fb-4c16-98a1-90fef0d30549",
   "metadata": {},
   "outputs": [],
   "source": [
    "# We are careful to place the sets in chronological order (train -> validation -> test)\n",
    "# Training + validation sets are created for later use\n",
    "features_tv, features_test, target_tv, target_test = train_test_split(\n",
    "    features, target, test_size=1/10, shuffle=False)\n",
    "features_train, features_valid, target_train, target_valid = train_test_split(\n",
    "    features_tv, target_tv, test_size=1/9, shuffle=False)"
   ]
  },
  {
   "cell_type": "markdown",
   "id": "41fb849b-bf97-441a-8f16-c46eea6ea484",
   "metadata": {},
   "source": [
    "## Linear regression"
   ]
  },
  {
   "cell_type": "code",
   "execution_count": 20,
   "id": "e0dbe1e4-d4ef-4d17-bc11-4bbd21e8f473",
   "metadata": {},
   "outputs": [
    {
     "name": "stdout",
     "output_type": "stream",
     "text": [
      "RMSE for training set: 28.979309831490838\n",
      "RMSE for validation set: 40.68283939836304\n",
      "CPU times: total: 0 ns\n",
      "Wall time: 12 ms\n"
     ]
    }
   ],
   "source": [
    "%%time\n",
    "model = LinearRegression()\n",
    "model.fit(features_train, target_train)\n",
    "\n",
    "pred_train = model.predict(features_train)\n",
    "pred_valid = model.predict(features_valid)\n",
    "\n",
    "print('RMSE for training set:', np.sqrt(mse(target_train, pred_train)))\n",
    "print('RMSE for validation set:', np.sqrt(mse(target_valid, pred_valid)))"
   ]
  },
  {
   "cell_type": "markdown",
   "id": "9b46ffb0-468f-4a73-bc06-25356f8a1b07",
   "metadata": {},
   "source": [
    "Wow, I did not expect linear regression to already have performed well within our requirement of 48 with RMSE. RMSE for the validation set is 40.7, which is about 35% higher than the RMSE for the training set. The model has overfitted, but it is not outrageous."
   ]
  },
  {
   "cell_type": "markdown",
   "id": "bbb7eb01-bd2a-43b9-a731-2550b0f6c70a",
   "metadata": {},
   "source": [
    "## Polynomial regression"
   ]
  },
  {
   "cell_type": "code",
   "execution_count": 21,
   "id": "ebcf4e67-9878-40a1-89cb-45c16fb1800a",
   "metadata": {},
   "outputs": [
    {
     "name": "stdout",
     "output_type": "stream",
     "text": [
      "Degree: 0\n",
      "RMSE for training set: 35.71731795135348\n",
      "RMSE for validation set: 58.23084062373776\n",
      "Degree: 1\n",
      "RMSE for training set: 28.979309831490838\n",
      "RMSE for validation set: 40.68283939836304\n",
      "Degree: 2\n",
      "RMSE for training set: 25.376287853396484\n",
      "RMSE for validation set: 39.313351717278785\n",
      "Degree: 3\n",
      "RMSE for training set: 21.897243004816275\n",
      "RMSE for validation set: 52.01150843187109\n",
      "Degree: 4\n",
      "RMSE for training set: 17.623406126077917\n",
      "RMSE for validation set: 146.79029060994847\n"
     ]
    }
   ],
   "source": [
    "for degree in range(1, 5):\n",
    "    polynomial_trans = PolynomialFeatures(degree=degree)\n",
    "    features_train_poly = polynomial_trans.fit_transform(features_train)\n",
    "    poly_reg_model = LinearRegression()\n",
    "    poly_reg_model.fit(features_train_poly, target_train)\n",
    "    \n",
    "    pred_train = poly_reg_model.predict(features_train_poly)\n",
    "    pred_valid = poly_reg_model.predict(polynomial_trans.fit_transform(features_valid))\n",
    "    \n",
    "    print('Degree:', degree)\n",
    "    print('RMSE for training set:', np.sqrt(mse(target_train, pred_train)))\n",
    "    print('RMSE for validation set:', np.sqrt(mse(target_valid, pred_valid)))"
   ]
  },
  {
   "cell_type": "markdown",
   "id": "dde5b5d9-ecb1-4885-8e82-c55d2bee2cfe",
   "metadata": {},
   "source": [
    "I originally had tried degrees from 0 to 10 - my computer made calculations for degrees 0-4 almost instantly, and then it started making sounds I've never heard before while it tried to calculate degree 5 and up. I have reduced this range to prevent that. The linear regression model with quadratic preprocessing (degree=2) does perform slightly better than the regular linear regression with 1 degree. The gap between the RMSE for the training set and the validation set is slightly higher, so it may be more overfitted than the previous model, and this data requires a transform of features before every training and prediction, though it seems to be nearly as quick as linear regression. I suppose I will opt for this model over the standard linear regression model based on its lower RMSE and minimal additional costs."
   ]
  },
  {
   "cell_type": "markdown",
   "id": "f96a7ce9-abe6-4c69-92a9-4ed927288367",
   "metadata": {},
   "source": [
    "## Random forest regressor"
   ]
  },
  {
   "cell_type": "code",
   "execution_count": 22,
   "id": "feaf4ae8-7c96-4c16-96a3-bb1a89e76c5f",
   "metadata": {},
   "outputs": [
    {
     "name": "stdout",
     "output_type": "stream",
     "text": [
      "5 16 37.481449010272144\n",
      "5 16 37.49257392562935\n",
      "5 16 39.290315419344\n",
      "5 16 38.50313257388805\n",
      "5 16 37.49257392562935\n",
      "5 16 39.290315419344\n",
      "5 16 36.28430937637386\n",
      "5 16 37.49257392562935\n",
      "5 16 39.290315419344\n",
      "5 17 36.46471278199076\n",
      "5 17 36.836500586633385\n",
      "5 17 39.47543179181662\n",
      "5 17 36.28576456949499\n",
      "5 17 36.836500586633385\n",
      "5 17 39.47543179181662\n",
      "5 17 37.872115989256244\n",
      "5 17 36.836500586633385\n",
      "5 17 39.47543179181662\n",
      "5 18 35.206762336455476\n",
      "5 18 37.60282333348899\n",
      "5 18 39.47543179181662\n",
      "5 18 36.997700365460105\n",
      "5 18 37.60282333348899\n",
      "5 18 39.47543179181662\n",
      "5 18 38.044816647884915\n",
      "5 18 37.60282333348899\n",
      "5 18 39.47543179181662\n",
      "5 19 36.120020948174776\n",
      "5 19 37.66430984682493\n",
      "5 19 39.47543179181662\n",
      "5 19 37.64422788106118\n",
      "5 19 37.66430984682493\n",
      "5 19 39.47543179181662\n",
      "5 19 36.36349442159569\n",
      "5 19 37.66430984682493\n",
      "5 19 39.47543179181662\n",
      "9 16 35.94374832824287\n",
      "9 16 37.3071768846874\n",
      "9 16 38.071557610826424\n",
      "9 16 37.27150630073563\n",
      "9 16 37.3071768846874\n",
      "9 16 38.071557610826424\n",
      "9 16 35.84607551375971\n",
      "9 16 37.3071768846874\n",
      "9 16 38.071557610826424\n",
      "9 17 35.5180143772819\n",
      "9 17 36.60695076397504\n",
      "9 17 38.99211676649722\n",
      "9 17 35.39606876377531\n",
      "9 17 36.60695076397504\n",
      "9 17 38.99211676649722\n",
      "9 17 37.46669201950217\n",
      "9 17 36.60695076397504\n",
      "9 17 38.99211676649722\n",
      "9 18 34.0403429277179\n",
      "9 18 37.43748302866878\n",
      "9 18 39.03611440341885\n",
      "9 18 36.20708342041598\n",
      "9 18 37.43748302866878\n",
      "9 18 39.03611440341885\n",
      "9 18 36.8788894817723\n",
      "9 18 37.43748302866878\n",
      "9 18 39.03611440341885\n",
      "9 19 35.32728467965312\n",
      "9 19 37.48326659184565\n",
      "9 19 38.697423773517485\n",
      "9 19 37.122444587693806\n",
      "9 19 37.48326659184565\n",
      "9 19 38.697423773517485\n",
      "9 19 35.79809550922154\n",
      "9 19 37.48326659184565\n",
      "9 19 38.697423773517485\n",
      "10 16 35.65875310396738\n",
      "10 16 36.96892656047372\n",
      "10 16 37.65593947795494\n",
      "10 16 37.30909981582842\n",
      "10 16 36.96892656047372\n",
      "10 16 37.65593947795494\n",
      "10 16 35.888291562124124\n",
      "10 16 36.96892656047372\n",
      "10 16 37.65593947795494\n",
      "10 17 35.467224235071036\n",
      "10 17 36.402936386926946\n",
      "10 17 38.43523317486014\n",
      "10 17 35.17552361683335\n",
      "10 17 36.402936386926946\n",
      "10 17 38.43523317486014\n",
      "10 17 37.86201922723424\n",
      "10 17 36.402936386926946\n",
      "10 17 38.43523317486014\n",
      "10 18 33.96225270608463\n",
      "10 18 36.82882129229826\n",
      "10 18 38.47577753616364\n",
      "10 18 36.666179787012055\n",
      "10 18 36.82882129229826\n",
      "10 18 38.47577753616364\n",
      "10 18 36.898449084112016\n",
      "10 18 36.82882129229826\n",
      "10 18 38.47577753616364\n",
      "10 19 35.32095858577147\n",
      "10 19 36.92960894234316\n",
      "10 19 38.18567008427761\n",
      "10 19 37.07217488637039\n",
      "10 19 36.92960894234316\n",
      "10 19 38.18567008427761\n",
      "10 19 35.57064917933187\n",
      "10 19 36.92960894234316\n",
      "10 19 38.18567008427761\n",
      "11 16 35.40613157910662\n",
      "11 16 36.80992766826154\n",
      "11 16 37.71177554619443\n",
      "11 16 36.962309002557625\n",
      "11 16 36.80992766826154\n",
      "11 16 37.71177554619443\n",
      "11 16 35.91819981872212\n",
      "11 16 36.80992766826154\n",
      "11 16 37.71177554619443\n",
      "11 17 35.48309947286116\n",
      "11 17 36.18066032549438\n",
      "11 17 38.52470672312602\n",
      "11 17 35.11283305281054\n",
      "11 17 36.18066032549438\n",
      "11 17 38.52470672312602\n",
      "11 17 37.44509960921713\n",
      "11 17 36.18066032549438\n",
      "11 17 38.52470672312602\n",
      "11 18 34.06256303544552\n",
      "11 18 36.723970105647524\n",
      "11 18 38.453243198792315\n",
      "11 18 36.20982401166569\n",
      "11 18 36.723970105647524\n",
      "11 18 38.453243198792315\n",
      "11 18 36.7458508335048\n",
      "11 18 36.723970105647524\n",
      "11 18 38.453243198792315\n",
      "11 19 35.15244231207372\n",
      "11 19 36.72451531443344\n",
      "11 19 38.191150112028076\n",
      "11 19 36.66891081789415\n",
      "11 19 36.72451531443344\n",
      "11 19 38.191150112028076\n",
      "11 19 35.58137205030467\n",
      "11 19 36.72451531443344\n",
      "11 19 38.191150112028076\n",
      "15 16 35.25102216656768\n",
      "15 16 36.81348270150289\n",
      "15 16 37.424437123668454\n",
      "15 16 36.118175644761806\n",
      "15 16 36.81348270150289\n",
      "15 16 37.424437123668454\n",
      "15 16 35.99038850342804\n",
      "15 16 36.81348270150289\n",
      "15 16 37.424437123668454\n",
      "15 17 35.148995694382116\n",
      "15 17 35.789902062575834\n",
      "15 17 38.359992392374934\n",
      "15 17 35.13210292061787\n",
      "15 17 35.789902062575834\n",
      "15 17 38.359992392374934\n",
      "15 17 37.67435216284673\n",
      "15 17 35.789902062575834\n",
      "15 17 38.359992392374934\n",
      "15 18 34.60547011286273\n",
      "15 18 36.47231186506291\n",
      "15 18 37.92353482362041\n",
      "15 18 36.18368080415123\n",
      "15 18 36.47231186506291\n",
      "15 18 37.92353482362041\n",
      "15 18 36.48961325353027\n",
      "15 18 36.47231186506291\n",
      "15 18 37.92353482362041\n",
      "15 19 35.610910813039965\n",
      "15 19 36.625304974797935\n",
      "15 19 37.91443448051809\n",
      "15 19 36.014689285310396\n",
      "15 19 36.625304974797935\n",
      "15 19 37.91443448051809\n",
      "15 19 35.883796796886806\n",
      "15 19 36.625304974797935\n",
      "15 19 37.91443448051809\n",
      "Number of trees: 10\n",
      "Max Depth: 18\n",
      "Best RMSE: 33.96225270608463\n",
      "Training RMSE: 10.585665209708889\n",
      "Min sample split: 2\n",
      "Min samples leaf: 1\n"
     ]
    }
   ],
   "source": [
    "best_est = 0\n",
    "best_depth = 0\n",
    "best_model = None\n",
    "best_rmse = 1e10\n",
    "current_rmse_train = 0\n",
    "best_split = 0\n",
    "best_leaf = 0\n",
    "for est in [5,9,10,11,15]:\n",
    "    for depth in range(16,20):\n",
    "        for samp_split in [2,5,10]:\n",
    "            for samp_leaf in [1,5,10]:\n",
    "                model = RandomForestRegressor(n_estimators=est, max_depth=depth, random_state=0, max_features='sqrt',\n",
    "                                             min_samples_split=samp_split, min_samples_leaf=samp_leaf)\n",
    "                model.fit(features_train, target_train)\n",
    "\n",
    "                pred_valid = model.predict(features_valid)\n",
    "                rmse_valid = np.sqrt(mse(target_valid, pred_valid))\n",
    "\n",
    "                pred_train = model.predict(features_train)\n",
    "                rmse_train = np.sqrt(mse(target_train, pred_train))\n",
    "\n",
    "                print(est, depth, rmse_valid)\n",
    "                if rmse_valid < best_rmse:\n",
    "                    best_rmse = rmse_valid\n",
    "                    best_model = model\n",
    "                    best_depth = depth\n",
    "                    best_est = est\n",
    "                    current_rmse_train = rmse_train\n",
    "                    best_split = samp_split\n",
    "                    best_leaf = samp_leaf\n",
    "print(f\"Number of trees: {best_est}\\nMax Depth: {best_depth}\\nBest RMSE: {best_rmse}\\nTraining RMSE: {current_rmse_train}\")\n",
    "print(f\"Min sample split: {best_split}\\nMin samples leaf: {best_leaf}\")"
   ]
  },
  {
   "cell_type": "markdown",
   "id": "f1c3c745-6274-4156-add6-2a6ff705a961",
   "metadata": {},
   "source": [
    "The validated RMSE is 34.0, which is distinctly lower than that of the linear regression models. However, this RMSE is 3x that of the training set RMSE, which strongly indicates overfitting. The model will train quickly with only 10 trees and a few thousand data points."
   ]
  },
  {
   "cell_type": "markdown",
   "id": "d7483d81-4021-4ff3-93d6-98804b372a3d",
   "metadata": {},
   "source": [
    "## CatBoost"
   ]
  },
  {
   "cell_type": "markdown",
   "id": "e3313fb7-f7c5-40b2-9840-cd0c172dfce0",
   "metadata": {},
   "source": [
    "I will use CatBoost's built-in evaluator for its regression model and try out different hyperparameters. I will first run the model with some reasonable values with CatBoost's built-in evaluation plot and gauge how many estimators I need. Then I will find a good max_depth value, and after that I will work on hyperparameters that might help with overfitting. I will tweak the learning rate and number of estimators concurrently to see if I can find any major improvement, otherwise I will just keep my n_estimators at a high constant."
   ]
  },
  {
   "cell_type": "code",
   "execution_count": 23,
   "id": "3c22d170-7b28-466e-bea7-882baa6499f4",
   "metadata": {},
   "outputs": [
    {
     "data": {
      "application/vnd.jupyter.widget-view+json": {
       "model_id": "efb473745a3e4f9aa19a84073dba86c1",
       "version_major": 2,
       "version_minor": 0
      },
      "text/plain": [
       "MetricVisualizer(layout=Layout(align_self='stretch', height='500px'))"
      ]
     },
     "metadata": {},
     "output_type": "display_data"
    },
    {
     "name": "stdout",
     "output_type": "stream",
     "text": [
      "0:\tlearn: 35.5468310\ttest: 58.0158466\tbest: 58.0158466 (0)\ttotal: 117ms\tremaining: 7m 46s\n",
      "100:\tlearn: 25.7809002\ttest: 44.3587942\tbest: 44.3587942 (100)\ttotal: 362ms\tremaining: 14s\n",
      "200:\tlearn: 22.7723454\ttest: 38.9980892\tbest: 38.9980892 (200)\ttotal: 554ms\tremaining: 10.5s\n",
      "300:\tlearn: 21.3064051\ttest: 36.4829688\tbest: 36.4829688 (300)\ttotal: 738ms\tremaining: 9.07s\n",
      "400:\tlearn: 20.3465743\ttest: 35.1336729\tbest: 35.1336729 (400)\ttotal: 923ms\tremaining: 8.28s\n",
      "500:\tlearn: 19.5761919\ttest: 34.3496421\tbest: 34.3496421 (500)\ttotal: 1.11s\tremaining: 7.77s\n",
      "600:\tlearn: 18.8930076\ttest: 33.7593208\tbest: 33.7593208 (600)\ttotal: 1.3s\tremaining: 7.37s\n",
      "700:\tlearn: 18.3109544\ttest: 33.4236614\tbest: 33.4236614 (700)\ttotal: 1.5s\tremaining: 7.04s\n",
      "800:\tlearn: 17.7345928\ttest: 33.1444972\tbest: 33.1434661 (799)\ttotal: 1.68s\tremaining: 6.72s\n",
      "900:\tlearn: 17.1957518\ttest: 32.9355038\tbest: 32.9355038 (900)\ttotal: 1.87s\tremaining: 6.44s\n",
      "1000:\tlearn: 16.6631826\ttest: 32.7767413\tbest: 32.7741085 (999)\ttotal: 2.08s\tremaining: 6.24s\n",
      "1100:\tlearn: 16.1538177\ttest: 32.6677000\tbest: 32.6677000 (1100)\ttotal: 2.28s\tremaining: 6.01s\n",
      "1200:\tlearn: 15.6528548\ttest: 32.5172537\tbest: 32.5172537 (1200)\ttotal: 2.48s\tremaining: 5.78s\n",
      "1300:\tlearn: 15.2539783\ttest: 32.4225653\tbest: 32.4223312 (1299)\ttotal: 2.68s\tremaining: 5.55s\n",
      "1400:\tlearn: 14.8589476\ttest: 32.3702870\tbest: 32.3649630 (1398)\ttotal: 2.87s\tremaining: 5.32s\n",
      "1500:\tlearn: 14.5143068\ttest: 32.3534717\tbest: 32.3394150 (1471)\ttotal: 3.08s\tremaining: 5.13s\n",
      "1600:\tlearn: 14.1676492\ttest: 32.3171329\tbest: 32.3048996 (1587)\ttotal: 3.28s\tremaining: 4.92s\n",
      "1700:\tlearn: 13.8152221\ttest: 32.3406472\tbest: 32.3048996 (1587)\ttotal: 3.48s\tremaining: 4.71s\n",
      "1800:\tlearn: 13.4839936\ttest: 32.3196882\tbest: 32.3048996 (1587)\ttotal: 3.68s\tremaining: 4.49s\n",
      "1900:\tlearn: 13.1612731\ttest: 32.3119052\tbest: 32.3048996 (1587)\ttotal: 3.87s\tremaining: 4.27s\n",
      "2000:\tlearn: 12.8587001\ttest: 32.3121375\tbest: 32.3048996 (1587)\ttotal: 4.09s\tremaining: 4.09s\n",
      "2100:\tlearn: 12.5783453\ttest: 32.3411748\tbest: 32.3048996 (1587)\ttotal: 4.29s\tremaining: 3.88s\n",
      "2200:\tlearn: 12.2865003\ttest: 32.3636014\tbest: 32.3048996 (1587)\ttotal: 4.48s\tremaining: 3.66s\n",
      "2300:\tlearn: 12.0026233\ttest: 32.3199310\tbest: 32.3048996 (1587)\ttotal: 4.67s\tremaining: 3.45s\n",
      "2400:\tlearn: 11.7335290\ttest: 32.3192992\tbest: 32.3048996 (1587)\ttotal: 4.86s\tremaining: 3.24s\n",
      "2500:\tlearn: 11.4748545\ttest: 32.3393876\tbest: 32.3048996 (1587)\ttotal: 5.08s\tremaining: 3.05s\n",
      "2600:\tlearn: 11.2366867\ttest: 32.3726309\tbest: 32.3048996 (1587)\ttotal: 5.26s\tremaining: 2.83s\n",
      "2700:\tlearn: 10.9939758\ttest: 32.3721197\tbest: 32.3048996 (1587)\ttotal: 5.45s\tremaining: 2.62s\n",
      "2800:\tlearn: 10.7541344\ttest: 32.3738986\tbest: 32.3048996 (1587)\ttotal: 5.64s\tremaining: 2.42s\n",
      "2900:\tlearn: 10.5213436\ttest: 32.3897290\tbest: 32.3048996 (1587)\ttotal: 5.83s\tremaining: 2.21s\n",
      "3000:\tlearn: 10.3017102\ttest: 32.3794506\tbest: 32.3048996 (1587)\ttotal: 6.11s\tremaining: 2.03s\n",
      "3100:\tlearn: 10.0922427\ttest: 32.3820082\tbest: 32.3048996 (1587)\ttotal: 6.3s\tremaining: 1.83s\n",
      "3200:\tlearn: 9.8886536\ttest: 32.4002436\tbest: 32.3048996 (1587)\ttotal: 6.48s\tremaining: 1.62s\n",
      "3300:\tlearn: 9.6917950\ttest: 32.4175726\tbest: 32.3048996 (1587)\ttotal: 6.67s\tremaining: 1.41s\n",
      "3400:\tlearn: 9.4928136\ttest: 32.4228058\tbest: 32.3048996 (1587)\ttotal: 6.86s\tremaining: 1.21s\n",
      "3500:\tlearn: 9.2879157\ttest: 32.4385733\tbest: 32.3048996 (1587)\ttotal: 7.09s\tremaining: 1.01s\n",
      "3600:\tlearn: 9.0949397\ttest: 32.4326080\tbest: 32.3048996 (1587)\ttotal: 7.3s\tremaining: 809ms\n",
      "3700:\tlearn: 8.9196607\ttest: 32.4322670\tbest: 32.3048996 (1587)\ttotal: 7.49s\tremaining: 605ms\n",
      "3800:\tlearn: 8.7521764\ttest: 32.4435793\tbest: 32.3048996 (1587)\ttotal: 7.67s\tremaining: 402ms\n",
      "3900:\tlearn: 8.5862345\ttest: 32.4571607\tbest: 32.3048996 (1587)\ttotal: 7.85s\tremaining: 199ms\n",
      "3999:\tlearn: 8.4329058\ttest: 32.4696327\tbest: 32.3048996 (1587)\ttotal: 8.09s\tremaining: 0us\n",
      "\n",
      "bestTest = 32.30489957\n",
      "bestIteration = 1587\n",
      "\n",
      "Shrink model to first 1588 iterations.\n",
      "CPU times: total: 6.67 s\n",
      "Wall time: 8.52 s\n"
     ]
    },
    {
     "data": {
      "text/plain": [
       "<catboost.core.CatBoostRegressor at 0x2768823b670>"
      ]
     },
     "execution_count": 23,
     "metadata": {},
     "output_type": "execute_result"
    }
   ],
   "source": [
    "model_cb = cb.CatBoostRegressor(verbose=100, random_state=0, n_estimators=4000, learning_rate=0.01, max_depth=7, subsample=1,\n",
    "                                           colsample_bylevel=1, l2_leaf_reg=0)\n",
    "%time model_cb.fit(features_train, target_train, plot=True, eval_set=(features_valid, target_valid))"
   ]
  },
  {
   "cell_type": "markdown",
   "id": "5f54bcaa-ceb2-44fe-8773-43879d3c6c61",
   "metadata": {},
   "source": [
    "I have followed the process I outlined above the model and landed on these hyperparameters. I am happy with the RMSE of 32.3, which is a little better than that of random forest regression. The difference in RMSE between the training and validation sets is also less than that from random forest, which is more promising in terms of overfitting. Training only takes a few seconds."
   ]
  },
  {
   "cell_type": "markdown",
   "id": "ad0a7975-110d-4e8d-9a07-0d05c808af35",
   "metadata": {},
   "source": [
    "## Test final model"
   ]
  },
  {
   "cell_type": "markdown",
   "id": "bd1b09fd-a3bc-4c9f-8748-19fa321a86b1",
   "metadata": {},
   "source": [
    "I will have to go with CatBoost's model here, given it had the lowest RMSE of all the models, quick training, and less risk of overfitting than the second-best-performing model, random forest. I will train the model on the training + validation set and use the test set for a final evaluation."
   ]
  },
  {
   "cell_type": "code",
   "execution_count": 24,
   "id": "bc087bf6-9a8f-4d81-8367-fcee129520e2",
   "metadata": {},
   "outputs": [
    {
     "name": "stdout",
     "output_type": "stream",
     "text": [
      "0:\tlearn: 38.4711304\ttest: 84.5543470\tbest: 84.5543470 (0)\ttotal: 3.8ms\tremaining: 15.2s\n",
      "100:\tlearn: 27.5684262\ttest: 65.8461109\tbest: 65.8461109 (100)\ttotal: 231ms\tremaining: 8.9s\n",
      "200:\tlearn: 24.1171741\ttest: 56.1788109\tbest: 56.1788109 (200)\ttotal: 420ms\tremaining: 7.94s\n",
      "300:\tlearn: 22.4886752\ttest: 51.2777100\tbest: 51.2777100 (300)\ttotal: 606ms\tremaining: 7.45s\n",
      "400:\tlearn: 21.4402705\ttest: 48.5835041\tbest: 48.5835041 (400)\ttotal: 789ms\tremaining: 7.08s\n",
      "500:\tlearn: 20.6159497\ttest: 47.2347373\tbest: 47.2255658 (499)\ttotal: 981ms\tremaining: 6.85s\n",
      "600:\tlearn: 19.9265713\ttest: 46.4536202\tbest: 46.4512934 (599)\ttotal: 1.17s\tremaining: 6.64s\n",
      "700:\tlearn: 19.3181367\ttest: 45.7617078\tbest: 45.7617078 (700)\ttotal: 1.36s\tremaining: 6.39s\n",
      "800:\tlearn: 18.7114193\ttest: 45.2347881\tbest: 45.2347881 (800)\ttotal: 1.54s\tremaining: 6.16s\n",
      "900:\tlearn: 18.1650754\ttest: 44.9117011\tbest: 44.9117011 (900)\ttotal: 1.73s\tremaining: 5.95s\n",
      "1000:\tlearn: 17.5902732\ttest: 44.6351910\tbest: 44.6296824 (999)\ttotal: 1.91s\tremaining: 5.74s\n",
      "1100:\tlearn: 17.0228519\ttest: 44.3868765\tbest: 44.3868765 (1100)\ttotal: 2.1s\tremaining: 5.53s\n",
      "1200:\tlearn: 16.5051606\ttest: 44.1691485\tbest: 44.1589006 (1199)\ttotal: 2.29s\tremaining: 5.35s\n",
      "1300:\tlearn: 16.0885333\ttest: 44.0503067\tbest: 44.0465213 (1296)\ttotal: 2.48s\tremaining: 5.16s\n",
      "1400:\tlearn: 15.6928469\ttest: 43.9142968\tbest: 43.9142968 (1400)\ttotal: 2.68s\tremaining: 4.97s\n",
      "1500:\tlearn: 15.2971718\ttest: 43.6888289\tbest: 43.6888289 (1500)\ttotal: 2.87s\tremaining: 4.79s\n",
      "1600:\tlearn: 14.9182798\ttest: 43.5607075\tbest: 43.5607075 (1600)\ttotal: 3.06s\tremaining: 4.59s\n",
      "1700:\tlearn: 14.5675625\ttest: 43.4234270\tbest: 43.4234270 (1700)\ttotal: 3.26s\tremaining: 4.4s\n",
      "1800:\tlearn: 14.2328210\ttest: 43.3095228\tbest: 43.3095228 (1800)\ttotal: 3.44s\tremaining: 4.21s\n",
      "1900:\tlearn: 13.8974098\ttest: 43.1598294\tbest: 43.1556404 (1889)\ttotal: 3.63s\tremaining: 4.01s\n",
      "2000:\tlearn: 13.6118028\ttest: 43.0363744\tbest: 43.0363744 (2000)\ttotal: 3.81s\tremaining: 3.81s\n",
      "2100:\tlearn: 13.3243507\ttest: 43.0109161\tbest: 43.0088423 (2092)\ttotal: 4.01s\tremaining: 3.63s\n",
      "2200:\tlearn: 13.0049776\ttest: 42.9929358\tbest: 42.9868976 (2192)\ttotal: 4.22s\tremaining: 3.45s\n",
      "2300:\tlearn: 12.7116491\ttest: 42.9530134\tbest: 42.9440728 (2295)\ttotal: 4.41s\tremaining: 3.25s\n",
      "2400:\tlearn: 12.4367337\ttest: 42.9009407\tbest: 42.9009407 (2400)\ttotal: 4.59s\tremaining: 3.06s\n",
      "2500:\tlearn: 12.1786100\ttest: 42.8715314\tbest: 42.8701428 (2483)\ttotal: 4.78s\tremaining: 2.87s\n",
      "2600:\tlearn: 11.9286914\ttest: 42.8318918\tbest: 42.8298837 (2595)\ttotal: 4.98s\tremaining: 2.68s\n",
      "2700:\tlearn: 11.6771091\ttest: 42.7974719\tbest: 42.7974719 (2700)\ttotal: 5.18s\tremaining: 2.49s\n",
      "2800:\tlearn: 11.4490496\ttest: 42.7219466\tbest: 42.7219466 (2800)\ttotal: 5.39s\tremaining: 2.31s\n",
      "2900:\tlearn: 11.2291067\ttest: 42.7124316\tbest: 42.7032838 (2831)\ttotal: 5.59s\tremaining: 2.12s\n",
      "3000:\tlearn: 11.0093258\ttest: 42.6523971\tbest: 42.6512403 (2992)\ttotal: 5.79s\tremaining: 1.93s\n",
      "3100:\tlearn: 10.8082003\ttest: 42.6208716\tbest: 42.6208716 (3100)\ttotal: 5.99s\tremaining: 1.74s\n",
      "3200:\tlearn: 10.6156804\ttest: 42.5812271\tbest: 42.5809032 (3186)\ttotal: 6.2s\tremaining: 1.55s\n",
      "3300:\tlearn: 10.4357616\ttest: 42.5576715\tbest: 42.5533907 (3296)\ttotal: 6.41s\tremaining: 1.36s\n",
      "3400:\tlearn: 10.2552071\ttest: 42.5428362\tbest: 42.5376003 (3351)\ttotal: 6.61s\tremaining: 1.16s\n",
      "3500:\tlearn: 10.0776470\ttest: 42.5342308\tbest: 42.5215727 (3453)\ttotal: 6.81s\tremaining: 971ms\n",
      "3600:\tlearn: 9.8936371\ttest: 42.5383788\tbest: 42.5215727 (3453)\ttotal: 7.01s\tremaining: 777ms\n",
      "3700:\tlearn: 9.7232741\ttest: 42.5633629\tbest: 42.5215727 (3453)\ttotal: 7.21s\tremaining: 582ms\n",
      "3800:\tlearn: 9.5498282\ttest: 42.5728469\tbest: 42.5215727 (3453)\ttotal: 7.4s\tremaining: 387ms\n",
      "3900:\tlearn: 9.3812998\ttest: 42.5761731\tbest: 42.5215727 (3453)\ttotal: 7.61s\tremaining: 193ms\n",
      "3999:\tlearn: 9.2142724\ttest: 42.5613774\tbest: 42.5215727 (3453)\ttotal: 7.8s\tremaining: 0us\n",
      "\n",
      "bestTest = 42.52157273\n",
      "bestIteration = 3453\n",
      "\n",
      "Shrink model to first 3454 iterations.\n"
     ]
    },
    {
     "data": {
      "text/plain": [
       "<catboost.core.CatBoostRegressor at 0x27687717ac0>"
      ]
     },
     "execution_count": 24,
     "metadata": {},
     "output_type": "execute_result"
    }
   ],
   "source": [
    "model_cb = cb.CatBoostRegressor(verbose=100, random_state=0, n_estimators=4000, learning_rate=0.01, max_depth=7, subsample=1,\n",
    "                                           colsample_bylevel=1, l2_leaf_reg=0)\n",
    "model_cb.fit(features_tv, target_tv, eval_set=(features_test, target_test))"
   ]
  },
  {
   "cell_type": "markdown",
   "id": "bdca4dc4-9135-43fa-9c13-32585310f564",
   "metadata": {},
   "source": [
    "The final tested RMSE if 42.5, which is distinctly within the requirements for RMSE, though it is much larger than the validated RMSE. It is disappointing but definitely acceptable. Now I can train this model on the entire dataset and make a one-step horizon forecast, for the next hour."
   ]
  },
  {
   "cell_type": "code",
   "execution_count": 25,
   "id": "088ff658-86a1-4b26-8eae-aee0c6220be2",
   "metadata": {},
   "outputs": [
    {
     "name": "stdout",
     "output_type": "stream",
     "text": [
      "0:\tlearn: 44.7874073\ttotal: 5.07ms\tremaining: 20.3s\n",
      "100:\tlearn: 31.0341830\ttotal: 263ms\tremaining: 10.1s\n",
      "200:\tlearn: 26.5215374\ttotal: 463ms\tremaining: 8.75s\n",
      "300:\tlearn: 24.4518301\ttotal: 673ms\tremaining: 8.27s\n",
      "400:\tlearn: 23.2144211\ttotal: 873ms\tremaining: 7.84s\n",
      "500:\tlearn: 22.3055848\ttotal: 1.08s\tremaining: 7.55s\n",
      "600:\tlearn: 21.6126214\ttotal: 1.31s\tremaining: 7.4s\n",
      "700:\tlearn: 20.9753396\ttotal: 1.57s\tremaining: 7.39s\n",
      "800:\tlearn: 20.3255920\ttotal: 1.86s\tremaining: 7.43s\n",
      "900:\tlearn: 19.7626449\ttotal: 2.13s\tremaining: 7.33s\n",
      "1000:\tlearn: 19.2121923\ttotal: 2.41s\tremaining: 7.22s\n",
      "1100:\tlearn: 18.6585224\ttotal: 2.67s\tremaining: 7.04s\n",
      "1200:\tlearn: 18.1072336\ttotal: 2.94s\tremaining: 6.86s\n",
      "1300:\tlearn: 17.6230289\ttotal: 3.21s\tremaining: 6.66s\n",
      "1400:\tlearn: 17.1640173\ttotal: 3.48s\tremaining: 6.45s\n",
      "1500:\tlearn: 16.7482083\ttotal: 3.75s\tremaining: 6.24s\n",
      "1600:\tlearn: 16.3795634\ttotal: 4s\tremaining: 6s\n",
      "1700:\tlearn: 16.0117843\ttotal: 4.27s\tremaining: 5.78s\n",
      "1800:\tlearn: 15.6854302\ttotal: 4.54s\tremaining: 5.54s\n",
      "1900:\tlearn: 15.3658279\ttotal: 4.8s\tremaining: 5.3s\n",
      "2000:\tlearn: 15.0603839\ttotal: 5.07s\tremaining: 5.06s\n",
      "2100:\tlearn: 14.7640549\ttotal: 5.34s\tremaining: 4.83s\n",
      "2200:\tlearn: 14.4789876\ttotal: 5.61s\tremaining: 4.58s\n",
      "2300:\tlearn: 14.2045749\ttotal: 5.88s\tremaining: 4.34s\n",
      "2400:\tlearn: 13.9433237\ttotal: 6.15s\tremaining: 4.1s\n",
      "2500:\tlearn: 13.6706777\ttotal: 6.42s\tremaining: 3.85s\n",
      "2600:\tlearn: 13.4197933\ttotal: 6.7s\tremaining: 3.6s\n",
      "2700:\tlearn: 13.1717313\ttotal: 6.96s\tremaining: 3.35s\n",
      "2800:\tlearn: 12.9280041\ttotal: 7.23s\tremaining: 3.1s\n",
      "2900:\tlearn: 12.7042391\ttotal: 7.49s\tremaining: 2.84s\n",
      "3000:\tlearn: 12.4867664\ttotal: 7.76s\tremaining: 2.58s\n",
      "3100:\tlearn: 12.2532873\ttotal: 8.03s\tremaining: 2.33s\n",
      "3200:\tlearn: 12.0233416\ttotal: 8.29s\tremaining: 2.07s\n",
      "3300:\tlearn: 11.8059816\ttotal: 8.55s\tremaining: 1.81s\n",
      "3400:\tlearn: 11.5900990\ttotal: 8.82s\tremaining: 1.55s\n",
      "3500:\tlearn: 11.3893968\ttotal: 9.09s\tremaining: 1.29s\n",
      "3600:\tlearn: 11.1875392\ttotal: 9.36s\tremaining: 1.04s\n",
      "3700:\tlearn: 11.0009154\ttotal: 9.62s\tremaining: 777ms\n",
      "3800:\tlearn: 10.8093610\ttotal: 9.89s\tremaining: 518ms\n",
      "3900:\tlearn: 10.6196765\ttotal: 10.2s\tremaining: 258ms\n",
      "3999:\tlearn: 10.4464689\ttotal: 10.4s\tremaining: 0us\n"
     ]
    },
    {
     "data": {
      "text/plain": [
       "<catboost.core.CatBoostRegressor at 0x2768807cdc0>"
      ]
     },
     "execution_count": 25,
     "metadata": {},
     "output_type": "execute_result"
    }
   ],
   "source": [
    "model_cb = cb.CatBoostRegressor(verbose=100, random_state=0, n_estimators=4000, learning_rate=0.01, max_depth=7, subsample=1,\n",
    "                                           colsample_bylevel=1, l2_leaf_reg=0)\n",
    "model_cb.fit(features, target)"
   ]
  },
  {
   "cell_type": "code",
   "execution_count": 26,
   "id": "b92f9206-4a27-4f01-8a24-8fa17d313231",
   "metadata": {},
   "outputs": [
    {
     "data": {
      "text/html": [
       "<div>\n",
       "<style scoped>\n",
       "    .dataframe tbody tr th:only-of-type {\n",
       "        vertical-align: middle;\n",
       "    }\n",
       "\n",
       "    .dataframe tbody tr th {\n",
       "        vertical-align: top;\n",
       "    }\n",
       "\n",
       "    .dataframe thead th {\n",
       "        text-align: right;\n",
       "    }\n",
       "</style>\n",
       "<table border=\"1\" class=\"dataframe\">\n",
       "  <thead>\n",
       "    <tr style=\"text-align: right;\">\n",
       "      <th></th>\n",
       "      <th>num_orders</th>\n",
       "      <th>month</th>\n",
       "      <th>day</th>\n",
       "      <th>hour</th>\n",
       "      <th>dayofweek</th>\n",
       "      <th>lag_1</th>\n",
       "      <th>lag_2</th>\n",
       "      <th>lag_3</th>\n",
       "      <th>lag_4</th>\n",
       "      <th>lag_5</th>\n",
       "      <th>lag_6</th>\n",
       "      <th>rolling_mean</th>\n",
       "    </tr>\n",
       "    <tr>\n",
       "      <th>datetime</th>\n",
       "      <th></th>\n",
       "      <th></th>\n",
       "      <th></th>\n",
       "      <th></th>\n",
       "      <th></th>\n",
       "      <th></th>\n",
       "      <th></th>\n",
       "      <th></th>\n",
       "      <th></th>\n",
       "      <th></th>\n",
       "      <th></th>\n",
       "      <th></th>\n",
       "    </tr>\n",
       "  </thead>\n",
       "  <tbody>\n",
       "    <tr>\n",
       "      <th>2018-08-31 17:00:00</th>\n",
       "      <td>217</td>\n",
       "      <td>8</td>\n",
       "      <td>31</td>\n",
       "      <td>17</td>\n",
       "      <td>4</td>\n",
       "      <td>197.0</td>\n",
       "      <td>116.0</td>\n",
       "      <td>133.0</td>\n",
       "      <td>166.0</td>\n",
       "      <td>136.0</td>\n",
       "      <td>167.0</td>\n",
       "      <td>153.00</td>\n",
       "    </tr>\n",
       "    <tr>\n",
       "      <th>2018-08-31 18:00:00</th>\n",
       "      <td>207</td>\n",
       "      <td>8</td>\n",
       "      <td>31</td>\n",
       "      <td>18</td>\n",
       "      <td>4</td>\n",
       "      <td>217.0</td>\n",
       "      <td>197.0</td>\n",
       "      <td>116.0</td>\n",
       "      <td>133.0</td>\n",
       "      <td>166.0</td>\n",
       "      <td>136.0</td>\n",
       "      <td>165.75</td>\n",
       "    </tr>\n",
       "    <tr>\n",
       "      <th>2018-08-31 19:00:00</th>\n",
       "      <td>136</td>\n",
       "      <td>8</td>\n",
       "      <td>31</td>\n",
       "      <td>19</td>\n",
       "      <td>4</td>\n",
       "      <td>207.0</td>\n",
       "      <td>217.0</td>\n",
       "      <td>197.0</td>\n",
       "      <td>116.0</td>\n",
       "      <td>133.0</td>\n",
       "      <td>166.0</td>\n",
       "      <td>184.25</td>\n",
       "    </tr>\n",
       "    <tr>\n",
       "      <th>2018-08-31 20:00:00</th>\n",
       "      <td>154</td>\n",
       "      <td>8</td>\n",
       "      <td>31</td>\n",
       "      <td>20</td>\n",
       "      <td>4</td>\n",
       "      <td>136.0</td>\n",
       "      <td>207.0</td>\n",
       "      <td>217.0</td>\n",
       "      <td>197.0</td>\n",
       "      <td>116.0</td>\n",
       "      <td>133.0</td>\n",
       "      <td>189.25</td>\n",
       "    </tr>\n",
       "    <tr>\n",
       "      <th>2018-08-31 21:00:00</th>\n",
       "      <td>159</td>\n",
       "      <td>8</td>\n",
       "      <td>31</td>\n",
       "      <td>21</td>\n",
       "      <td>4</td>\n",
       "      <td>154.0</td>\n",
       "      <td>136.0</td>\n",
       "      <td>207.0</td>\n",
       "      <td>217.0</td>\n",
       "      <td>197.0</td>\n",
       "      <td>116.0</td>\n",
       "      <td>178.50</td>\n",
       "    </tr>\n",
       "    <tr>\n",
       "      <th>2018-08-31 22:00:00</th>\n",
       "      <td>223</td>\n",
       "      <td>8</td>\n",
       "      <td>31</td>\n",
       "      <td>22</td>\n",
       "      <td>4</td>\n",
       "      <td>159.0</td>\n",
       "      <td>154.0</td>\n",
       "      <td>136.0</td>\n",
       "      <td>207.0</td>\n",
       "      <td>217.0</td>\n",
       "      <td>197.0</td>\n",
       "      <td>164.00</td>\n",
       "    </tr>\n",
       "    <tr>\n",
       "      <th>2018-08-31 23:00:00</th>\n",
       "      <td>205</td>\n",
       "      <td>8</td>\n",
       "      <td>31</td>\n",
       "      <td>23</td>\n",
       "      <td>4</td>\n",
       "      <td>223.0</td>\n",
       "      <td>159.0</td>\n",
       "      <td>154.0</td>\n",
       "      <td>136.0</td>\n",
       "      <td>207.0</td>\n",
       "      <td>217.0</td>\n",
       "      <td>168.00</td>\n",
       "    </tr>\n",
       "  </tbody>\n",
       "</table>\n",
       "</div>"
      ],
      "text/plain": [
       "                     num_orders  month  day  hour  dayofweek  lag_1  lag_2  \\\n",
       "datetime                                                                     \n",
       "2018-08-31 17:00:00         217      8   31    17          4  197.0  116.0   \n",
       "2018-08-31 18:00:00         207      8   31    18          4  217.0  197.0   \n",
       "2018-08-31 19:00:00         136      8   31    19          4  207.0  217.0   \n",
       "2018-08-31 20:00:00         154      8   31    20          4  136.0  207.0   \n",
       "2018-08-31 21:00:00         159      8   31    21          4  154.0  136.0   \n",
       "2018-08-31 22:00:00         223      8   31    22          4  159.0  154.0   \n",
       "2018-08-31 23:00:00         205      8   31    23          4  223.0  159.0   \n",
       "\n",
       "                     lag_3  lag_4  lag_5  lag_6  rolling_mean  \n",
       "datetime                                                       \n",
       "2018-08-31 17:00:00  133.0  166.0  136.0  167.0        153.00  \n",
       "2018-08-31 18:00:00  116.0  133.0  166.0  136.0        165.75  \n",
       "2018-08-31 19:00:00  197.0  116.0  133.0  166.0        184.25  \n",
       "2018-08-31 20:00:00  217.0  197.0  116.0  133.0        189.25  \n",
       "2018-08-31 21:00:00  207.0  217.0  197.0  116.0        178.50  \n",
       "2018-08-31 22:00:00  136.0  207.0  217.0  197.0        164.00  \n",
       "2018-08-31 23:00:00  154.0  136.0  207.0  217.0        168.00  "
      ]
     },
     "execution_count": 26,
     "metadata": {},
     "output_type": "execute_result"
    }
   ],
   "source": [
    "df.tail(7)"
   ]
  },
  {
   "cell_type": "markdown",
   "id": "96d4002f-91c5-4dc5-9a8c-73ebbdea011c",
   "metadata": {},
   "source": [
    "Below are remnants of code I didn't use."
   ]
  },
  {
   "cell_type": "code",
   "execution_count": 27,
   "id": "96f9089e-bd07-4447-b095-361a8f1d0574",
   "metadata": {},
   "outputs": [],
   "source": [
    "# def generate_future_data(model, forecast_horizon, last_known_data):\n",
    "#     future_data = []\n",
    "#     last_data_point = np.array(last_known_data)\n",
    "    \n",
    "#     for i in range(forecast_horizon):\n",
    "#         pred = model.predict(last_data_point.reshape(1, -1))\n",
    "#         display(pred)\n",
    "#         future_data.append(pred[0])\n",
    "#         last_data_point = np.append(last_data_point[1:], pred)\n",
    "    \n",
    "#     return future_data"
   ]
  },
  {
   "cell_type": "code",
   "execution_count": 28,
   "id": "df4e2782-faae-4a53-8c67-586734513327",
   "metadata": {},
   "outputs": [],
   "source": [
    "# forecast_horizon = 5\n",
    "# future_data = generate_future_data(model_cb, forecast_horizon, features.iloc[-1])\n",
    "# future_prediction = model_cb.predict(future_data)\n",
    "\n",
    "# print(future_prediction)"
   ]
  },
  {
   "cell_type": "markdown",
   "id": "5e84967f-da9e-45f6-b166-19ba79aa27a5",
   "metadata": {},
   "source": [
    "I spent a while researching but did not find an easy or familiar way to predict into the future, so I generated my own observation one hour into the future and made a prediction directly from this. I looked at the tail observations from the dataset to get this information."
   ]
  },
  {
   "cell_type": "code",
   "execution_count": 29,
   "id": "2be09eab-6976-4f42-9cdc-db60f1231510",
   "metadata": {},
   "outputs": [
    {
     "name": "stdout",
     "output_type": "stream",
     "text": [
      "217.22837903358374\n"
     ]
    }
   ],
   "source": [
    "next_observation_features = np.array([9, 1, 0, 5, 205, 223, 159, 154, 136, 207, 174.94])\n",
    "\n",
    "future_prediction = model_cb.predict(next_observation_features)\n",
    "print(future_prediction)"
   ]
  },
  {
   "cell_type": "markdown",
   "id": "89697ab9-b76d-4b74-a516-7c7e22c9ceee",
   "metadata": {},
   "source": [
    "In the next hour, 217 taxi rides are expected, with a RMSE of 42.5."
   ]
  },
  {
   "cell_type": "markdown",
   "id": "f23a145d-bf7b-4398-bbfd-61c3243ef58f",
   "metadata": {},
   "source": [
    "# Conclusion"
   ]
  },
  {
   "cell_type": "markdown",
   "id": "ec49a4b1-611a-4939-a1c9-7bb331c83091",
   "metadata": {},
   "source": [
    "I was given time series data on Sweet Lift Taxi rides, and found that from March to August, the number of rides per hour generally increased over time, being at their lowest in March and their highest in August. Throughout a day in late August, there appeared to be reliable seasonality, with distinct hours with peak rides. I trained linear regression models of varying orders, a random forest model, and a CatBoost gradient-boosted regression model. The CatBoost model had the best validation RMSE, so I chose this model to test as my final model. The final tested root mean squared error was 42.5 taxi rides, which is comfortably below the company's requirement of 48 taxi rides. I made a prediction for the next hour that 217 taxi rides would be taken, which seems reasonable given past trends."
   ]
  }
 ],
 "metadata": {
  "kernelspec": {
   "display_name": "Python 3 (ipykernel)",
   "language": "python",
   "name": "python3"
  },
  "language_info": {
   "codemirror_mode": {
    "name": "ipython",
    "version": 3
   },
   "file_extension": ".py",
   "mimetype": "text/x-python",
   "name": "python",
   "nbconvert_exporter": "python",
   "pygments_lexer": "ipython3",
   "version": "3.9.16"
  }
 },
 "nbformat": 4,
 "nbformat_minor": 5
}
